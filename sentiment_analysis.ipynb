{
  "nbformat": 4,
  "nbformat_minor": 0,
  "metadata": {
    "colab": {
      "provenance": []
    },
    "kernelspec": {
      "name": "python3",
      "display_name": "Python 3"
    },
    "language_info": {
      "name": "python"
    }
  },
  "cells": [
    {
      "cell_type": "markdown",
      "source": [
        "***구글 드라이브 마운트**\n",
        "\n",
        "*   구글 드라이브에 있는 파일을 불러와서 사용하기 위해서는 드라이브 마운트를 해야 한다.\n",
        "\n",
        "\n",
        "1.   코드를 실행하여 구글 드라이브 인증 진행\n",
        "2.   링크로 이동하여 Google Drive File Stream 계정 엑세스 요청 허가하기\n",
        "\n",
        "\n",
        "\n",
        "\n",
        "\n"
      ],
      "metadata": {
        "id": "QmdqUhgkzq3Q"
      }
    },
    {
      "cell_type": "code",
      "execution_count": 1,
      "metadata": {
        "colab": {
          "base_uri": "https://localhost:8080/"
        },
        "id": "gnIrWC7ryo_u",
        "outputId": "29244df7-1f74-40a6-df00-cf3a9f4e4a69"
      },
      "outputs": [
        {
          "output_type": "stream",
          "name": "stdout",
          "text": [
            "Mounted at /content/gdrive\n"
          ]
        }
      ],
      "source": [
        "import pandas as pd\n",
        "\n",
        "# 구글 드라이브와 연동\n",
        "from google.colab import drive\n",
        "drive.mount('/content/gdrive')    # 이후 파일 업로드에 사용하는 경로는 '/content/gdrive/My Drive/' 이 됨\n"
      ]
    },
    {
      "cell_type": "markdown",
      "source": [
        "##**[1단계] 감성대화말뭉치 원천 데이터를 기본으로 전처리 시작**"
      ],
      "metadata": {
        "id": "CEQyvcUVzWdM"
      }
    },
    {
      "cell_type": "markdown",
      "source": [
        "\n",
        "**사용하는 파일 : 원천데이터 - 감성대화말뭉치(최종데이터)_Training.csv** (사람문장 1만 활용)"
      ],
      "metadata": {
        "id": "KdVKnwo2quXT"
      }
    },
    {
      "cell_type": "code",
      "source": [
        "df = pd.read_csv('/content/gdrive/My Drive/sentiment/data.csv', encoding='cp949')\n",
        "df = df[['sentiment','sentence']]\n",
        "print(set(df['sentiment']))"
      ],
      "metadata": {
        "id": "PqZ_2RBwyqjm",
        "colab": {
          "base_uri": "https://localhost:8080/"
        },
        "outputId": "f5839c54-7ce8-42b6-c61c-2af4b12cf598"
      },
      "execution_count": 40,
      "outputs": [
        {
          "output_type": "stream",
          "name": "stdout",
          "text": [
            "{'분노', '당황', '기쁨', '슬픔', '중성', '불안'}\n"
          ]
        }
      ]
    },
    {
      "cell_type": "markdown",
      "source": [
        "### **사용하는 파일 : 감정단어사전 활용**\n",
        "감정분류 5개 버전\n",
        "**dict_5.csv**"
      ],
      "metadata": {
        "id": "IfFsngNjqWUh"
      }
    },
    {
      "cell_type": "code",
      "source": [
        "dict_5 = pd.read_csv('/content/gdrive/My Drive/sentiment/dict_5.csv', encoding='utf-8')\n",
        "dict_5 = dict_5.dropna(axis=0)\n",
        "\n",
        "col_name2=['감정범주', '단어']\n",
        "dict_5 = dict_5[col_name2]    "
      ],
      "metadata": {
        "id": "wrrTMoHB1Bn7"
      },
      "execution_count": 41,
      "outputs": []
    },
    {
      "cell_type": "code",
      "source": [
        "df2 = pd.DataFrame({\n",
        "    'sentiment' : df['sentiment'].tolist()+dict_5['감정범주'].tolist(),\n",
        "    'sentence' : df['sentence'].tolist()+dict_5['단어'].tolist()\n",
        "})"
      ],
      "metadata": {
        "id": "I5_uR-1SeEbZ"
      },
      "execution_count": 42,
      "outputs": []
    },
    {
      "cell_type": "markdown",
      "source": [
        "**결측치 제거**"
      ],
      "metadata": {
        "id": "-5SJJIF4rpsU"
      }
    },
    {
      "cell_type": "code",
      "source": [
        "print(\"결측치 제거 전 행 개수\")\n",
        "print(df2.size)\n",
        "df2 = df2.dropna(axis=0) # 결측치 제거\n",
        "print(\"결측치 제거 후 행 개수\")\n",
        "print(df2.size)"
      ],
      "metadata": {
        "id": "LMDQ_Z2OeZxQ",
        "colab": {
          "base_uri": "https://localhost:8080/"
        },
        "outputId": "a95fcfe6-737c-4276-89a2-93565a4b25ca"
      },
      "execution_count": 7,
      "outputs": [
        {
          "output_type": "stream",
          "name": "stdout",
          "text": [
            "결측치 제거 전 행 개수\n",
            "82964\n",
            "결측치 제거 후 행 개수\n",
            "82964\n"
          ]
        }
      ]
    },
    {
      "cell_type": "markdown",
      "source": [
        "##**[2단계] 분석대상 컬럼 추출 + 감정 라벨링**"
      ],
      "metadata": {
        "id": "OXesxOd-1Yks"
      }
    },
    {
      "cell_type": "markdown",
      "source": [
        "**감정 라벨링**"
      ],
      "metadata": {
        "id": "1hnde5XnwO0d"
      }
    },
    {
      "cell_type": "code",
      "source": [
        "from sklearn.preprocessing import LabelEncoder\n",
        "le = LabelEncoder()"
      ],
      "metadata": {
        "id": "67tymesmvE55"
      },
      "execution_count": 8,
      "outputs": []
    },
    {
      "cell_type": "code",
      "source": [
        "# 범주 찾기\n",
        "le.fit(df2['sentiment'])\n",
        "# 범주형 -> 수치형 데이터로 변환\n",
        "label_encoded = le.transform(df2['sentiment'])\n",
        "# 기쁨(0), 당황(1), 분노(2), 불안(3), 슬픔(4), 중성(5)"
      ],
      "metadata": {
        "id": "hbAKhmhEvNDL"
      },
      "execution_count": 43,
      "outputs": []
    },
    {
      "cell_type": "code",
      "source": [
        "# sentiment 컬럼에 넣기\n",
        "df2['sentiment'] = label_encoded\n",
        "df2.head()"
      ],
      "metadata": {
        "id": "HJqscfkHv5Uf",
        "colab": {
          "base_uri": "https://localhost:8080/",
          "height": 206
        },
        "outputId": "305c8bb9-33fd-4235-d0fc-ec9e510c44b0"
      },
      "execution_count": 54,
      "outputs": [
        {
          "output_type": "execute_result",
          "data": {
            "text/plain": [
              "   sentiment                                           sentence\n",
              "0          2                          일은 왜 해도 해도 끝이 없을까? 화가 난다.\n",
              "1          2     이번 달에 또 급여가 깎였어! 물가는 오르는데 월급만 자꾸 깎이니까 너무 화가 나.\n",
              "2          2  회사에 신입이 들어왔는데 말투가 거슬려. 그런 애를 매일 봐야 한다고 생각하니까 스...\n",
              "3          2      직장에서 막내라는 이유로 나에게만 온갖 심부름을 시켜. 일도 많은 데 정말 분해.\n",
              "4          2              얼마 전 입사한 신입사원이 나를 무시하는 것 같아서 너무 화가 나."
            ],
            "text/html": [
              "\n",
              "  <div id=\"df-c36f6ec4-479e-44f3-b020-3335023bf3d4\">\n",
              "    <div class=\"colab-df-container\">\n",
              "      <div>\n",
              "<style scoped>\n",
              "    .dataframe tbody tr th:only-of-type {\n",
              "        vertical-align: middle;\n",
              "    }\n",
              "\n",
              "    .dataframe tbody tr th {\n",
              "        vertical-align: top;\n",
              "    }\n",
              "\n",
              "    .dataframe thead th {\n",
              "        text-align: right;\n",
              "    }\n",
              "</style>\n",
              "<table border=\"1\" class=\"dataframe\">\n",
              "  <thead>\n",
              "    <tr style=\"text-align: right;\">\n",
              "      <th></th>\n",
              "      <th>sentiment</th>\n",
              "      <th>sentence</th>\n",
              "    </tr>\n",
              "  </thead>\n",
              "  <tbody>\n",
              "    <tr>\n",
              "      <th>0</th>\n",
              "      <td>2</td>\n",
              "      <td>일은 왜 해도 해도 끝이 없을까? 화가 난다.</td>\n",
              "    </tr>\n",
              "    <tr>\n",
              "      <th>1</th>\n",
              "      <td>2</td>\n",
              "      <td>이번 달에 또 급여가 깎였어! 물가는 오르는데 월급만 자꾸 깎이니까 너무 화가 나.</td>\n",
              "    </tr>\n",
              "    <tr>\n",
              "      <th>2</th>\n",
              "      <td>2</td>\n",
              "      <td>회사에 신입이 들어왔는데 말투가 거슬려. 그런 애를 매일 봐야 한다고 생각하니까 스...</td>\n",
              "    </tr>\n",
              "    <tr>\n",
              "      <th>3</th>\n",
              "      <td>2</td>\n",
              "      <td>직장에서 막내라는 이유로 나에게만 온갖 심부름을 시켜. 일도 많은 데 정말 분해.</td>\n",
              "    </tr>\n",
              "    <tr>\n",
              "      <th>4</th>\n",
              "      <td>2</td>\n",
              "      <td>얼마 전 입사한 신입사원이 나를 무시하는 것 같아서 너무 화가 나.</td>\n",
              "    </tr>\n",
              "  </tbody>\n",
              "</table>\n",
              "</div>\n",
              "      <button class=\"colab-df-convert\" onclick=\"convertToInteractive('df-c36f6ec4-479e-44f3-b020-3335023bf3d4')\"\n",
              "              title=\"Convert this dataframe to an interactive table.\"\n",
              "              style=\"display:none;\">\n",
              "        \n",
              "  <svg xmlns=\"http://www.w3.org/2000/svg\" height=\"24px\"viewBox=\"0 0 24 24\"\n",
              "       width=\"24px\">\n",
              "    <path d=\"M0 0h24v24H0V0z\" fill=\"none\"/>\n",
              "    <path d=\"M18.56 5.44l.94 2.06.94-2.06 2.06-.94-2.06-.94-.94-2.06-.94 2.06-2.06.94zm-11 1L8.5 8.5l.94-2.06 2.06-.94-2.06-.94L8.5 2.5l-.94 2.06-2.06.94zm10 10l.94 2.06.94-2.06 2.06-.94-2.06-.94-.94-2.06-.94 2.06-2.06.94z\"/><path d=\"M17.41 7.96l-1.37-1.37c-.4-.4-.92-.59-1.43-.59-.52 0-1.04.2-1.43.59L10.3 9.45l-7.72 7.72c-.78.78-.78 2.05 0 2.83L4 21.41c.39.39.9.59 1.41.59.51 0 1.02-.2 1.41-.59l7.78-7.78 2.81-2.81c.8-.78.8-2.07 0-2.86zM5.41 20L4 18.59l7.72-7.72 1.47 1.35L5.41 20z\"/>\n",
              "  </svg>\n",
              "      </button>\n",
              "      \n",
              "  <style>\n",
              "    .colab-df-container {\n",
              "      display:flex;\n",
              "      flex-wrap:wrap;\n",
              "      gap: 12px;\n",
              "    }\n",
              "\n",
              "    .colab-df-convert {\n",
              "      background-color: #E8F0FE;\n",
              "      border: none;\n",
              "      border-radius: 50%;\n",
              "      cursor: pointer;\n",
              "      display: none;\n",
              "      fill: #1967D2;\n",
              "      height: 32px;\n",
              "      padding: 0 0 0 0;\n",
              "      width: 32px;\n",
              "    }\n",
              "\n",
              "    .colab-df-convert:hover {\n",
              "      background-color: #E2EBFA;\n",
              "      box-shadow: 0px 1px 2px rgba(60, 64, 67, 0.3), 0px 1px 3px 1px rgba(60, 64, 67, 0.15);\n",
              "      fill: #174EA6;\n",
              "    }\n",
              "\n",
              "    [theme=dark] .colab-df-convert {\n",
              "      background-color: #3B4455;\n",
              "      fill: #D2E3FC;\n",
              "    }\n",
              "\n",
              "    [theme=dark] .colab-df-convert:hover {\n",
              "      background-color: #434B5C;\n",
              "      box-shadow: 0px 1px 3px 1px rgba(0, 0, 0, 0.15);\n",
              "      filter: drop-shadow(0px 1px 2px rgba(0, 0, 0, 0.3));\n",
              "      fill: #FFFFFF;\n",
              "    }\n",
              "  </style>\n",
              "\n",
              "      <script>\n",
              "        const buttonEl =\n",
              "          document.querySelector('#df-c36f6ec4-479e-44f3-b020-3335023bf3d4 button.colab-df-convert');\n",
              "        buttonEl.style.display =\n",
              "          google.colab.kernel.accessAllowed ? 'block' : 'none';\n",
              "\n",
              "        async function convertToInteractive(key) {\n",
              "          const element = document.querySelector('#df-c36f6ec4-479e-44f3-b020-3335023bf3d4');\n",
              "          const dataTable =\n",
              "            await google.colab.kernel.invokeFunction('convertToInteractive',\n",
              "                                                     [key], {});\n",
              "          if (!dataTable) return;\n",
              "\n",
              "          const docLinkHtml = 'Like what you see? Visit the ' +\n",
              "            '<a target=\"_blank\" href=https://colab.research.google.com/notebooks/data_table.ipynb>data table notebook</a>'\n",
              "            + ' to learn more about interactive tables.';\n",
              "          element.innerHTML = '';\n",
              "          dataTable['output_type'] = 'display_data';\n",
              "          await google.colab.output.renderOutput(dataTable, element);\n",
              "          const docLink = document.createElement('div');\n",
              "          docLink.innerHTML = docLinkHtml;\n",
              "          element.appendChild(docLink);\n",
              "        }\n",
              "      </script>\n",
              "    </div>\n",
              "  </div>\n",
              "  "
            ]
          },
          "metadata": {},
          "execution_count": 54
        }
      ]
    },
    {
      "cell_type": "markdown",
      "source": [
        "##**[3단계] 텍스트 정규화**\n",
        "토큰화 : 문서를 문장 다뉘로, 문장을 단어 단위로 쪼개는 것. 주로 N-gram 방법이 사용됨\n",
        "필터링, 불용어 제거, 철자 수정 : 텍스트로부터 주요한 정보를 얻는 것에 영향을 미치지 않는 단어들을 제거한다.\n",
        "어근 추출(Stemming/Lemmatization)"
      ],
      "metadata": {
        "id": "6GA1o8Jl2Kfg"
      }
    },
    {
      "cell_type": "markdown",
      "source": [
        "**토큰화**"
      ],
      "metadata": {
        "id": "LiTqFZXVRT-B"
      }
    },
    {
      "cell_type": "code",
      "source": [
        "import nltk\n",
        "from nltk import word_tokenize, sent_tokenize"
      ],
      "metadata": {
        "id": "0a1BT1LI3TWH"
      },
      "execution_count": 13,
      "outputs": []
    },
    {
      "cell_type": "code",
      "source": [
        "nltk.download('punkt')"
      ],
      "metadata": {
        "colab": {
          "base_uri": "https://localhost:8080/"
        },
        "id": "NZCidI2fSnUY",
        "outputId": "8ff447cf-ab3c-4a40-9e8f-a7447f86d4af"
      },
      "execution_count": 14,
      "outputs": [
        {
          "output_type": "stream",
          "name": "stderr",
          "text": [
            "[nltk_data] Downloading package punkt to /root/nltk_data...\n",
            "[nltk_data]   Unzipping tokenizers/punkt.zip.\n"
          ]
        },
        {
          "output_type": "execute_result",
          "data": {
            "text/plain": [
              "True"
            ]
          },
          "metadata": {},
          "execution_count": 14
        }
      ]
    },
    {
      "cell_type": "code",
      "source": [
        "!pip install konlpy"
      ],
      "metadata": {
        "colab": {
          "base_uri": "https://localhost:8080/"
        },
        "id": "R7vtt4KU7-9c",
        "outputId": "21240e5f-5e23-4491-8d4c-97efdf696929"
      },
      "execution_count": 15,
      "outputs": [
        {
          "output_type": "stream",
          "name": "stdout",
          "text": [
            "Looking in indexes: https://pypi.org/simple, https://us-python.pkg.dev/colab-wheels/public/simple/\n",
            "Collecting konlpy\n",
            "  Downloading konlpy-0.6.0-py2.py3-none-any.whl (19.4 MB)\n",
            "\u001b[2K     \u001b[90m━━━━━━━━━━━━━━━━━━━━━━━━━━━━━━━━━━━━━━━━\u001b[0m \u001b[32m19.4/19.4 MB\u001b[0m \u001b[31m26.7 MB/s\u001b[0m eta \u001b[36m0:00:00\u001b[0m\n",
            "\u001b[?25hRequirement already satisfied: numpy>=1.6 in /usr/local/lib/python3.8/dist-packages (from konlpy) (1.21.6)\n",
            "Requirement already satisfied: lxml>=4.1.0 in /usr/local/lib/python3.8/dist-packages (from konlpy) (4.9.2)\n",
            "Collecting JPype1>=0.7.0\n",
            "  Downloading JPype1-1.4.1-cp38-cp38-manylinux_2_12_x86_64.manylinux2010_x86_64.whl (465 kB)\n",
            "\u001b[2K     \u001b[90m━━━━━━━━━━━━━━━━━━━━━━━━━━━━━━━━━━━━━━\u001b[0m \u001b[32m465.6/465.6 KB\u001b[0m \u001b[31m36.6 MB/s\u001b[0m eta \u001b[36m0:00:00\u001b[0m\n",
            "\u001b[?25hRequirement already satisfied: packaging in /usr/local/lib/python3.8/dist-packages (from JPype1>=0.7.0->konlpy) (23.0)\n",
            "Installing collected packages: JPype1, konlpy\n",
            "Successfully installed JPype1-1.4.1 konlpy-0.6.0\n"
          ]
        }
      ]
    },
    {
      "cell_type": "markdown",
      "source": [
        "**형태소 추출**"
      ],
      "metadata": {
        "id": "-Xd0XFxc4vyg"
      }
    },
    {
      "cell_type": "code",
      "source": [
        "from konlpy.tag import Okt\n",
        "okt = Okt()"
      ],
      "metadata": {
        "id": "2HgKbVqz4ybk"
      },
      "execution_count": 16,
      "outputs": []
    },
    {
      "cell_type": "markdown",
      "source": [
        "**불용어 처리**"
      ],
      "metadata": {
        "id": "tpc4Ty1oqxuh"
      }
    },
    {
      "cell_type": "code",
      "source": [
        "stop_words = [\n",
        "\"나\",\"내\", \"과\", \"무엇\", \"거\", \"있다\",\"요즘\",\"다\",\"날\",\"되다\",\"있다\",\"노\",\"오늘\", \"김\", \"그래서\", \"우리\",\"저희\",\"따라\",\"의해\",\"에게\",\"뿐\",\"의거\",\"하여\",\"근거\",\"입각\",\"기준\",\"예\",\"하면\",\"들면\",\"들자면\",\"저\",\"소인\",\"소생\",\"저희\",\"다른\",\"물론\",\"또한\",\"그리고\",\"비길\",\"수\",\n",
        "\"없다\",\"해서는\",\"막론\",\"비록\",\"더라도\",\"하다\",\"만\",\"하는\",\"편이\",\"불문\",\"향\",\"하여\",\"쪽\",\"틈타\",\"어떻다\", \"달\",\"타다\",\"오르다\",\"것\", \"얼마\",\"제외\",\"이\",\"외\",\"밖\",\"하여야\",\n",
        "\"한다면\",\"이\", \"곳\",\"여기\",\"부터\",\"기점\",\"따라서\",\"할\",\"생각\",\"하려고\",\"하다\",\"함\", \"때\",\"앞\",\"중\",\"보는데서\",\"해야\",\"일것이다\",\"할줄\",\"알다\",\"등\",\"등등\",\"제\",\"겨우\",\"단지\",\n",
        "\"다만\",\"할\",\"딩동\",\"대해\",\"대하\",\"얼마나\",\"얼마만큼\",\"큼\",\"얼\",\"남짓\",\"남자\",\"여자\",\"남\",\"여\",\"녀\",\"얼마간\",\"약간\",\"다소\",\"좀\",\"조금\",\"다수\",\"몇\",\"하물며\",\"또한\",\"이외\",\n",
        "\"대해\",\"말\",\"하자면\",\"다음\",\"이\",\"저\",\"그\",\"바꾸어서\",\"말\",\"만약\",\"툭\",\"각\",\"각각\",\"여러분\",\"각종\",\"각자\",\"제각기\",\"하도록\",\"까닭\",\"관\",\"하여\",\"진짜\",\n",
        "\"무슨\",\"어디\",\"곳\",\"더군다나\",\"언제\",\"또\",\"혹시\",\"젠\",\"되어\",\"및\",\"이번\",\"다음\",\"된\",\"거의\",\"이제\",\"감\",\"점점\",\"사람\",\"같다\",\"전\",\"후\",\"데\",\"매일\",\"받다\",\"난\",\"왜\",\n",
        "\"왼쪽\", \"오른쪽\", \"오늘날\", \"친구\", \"두\", \"해\", \"나다\"]"
      ],
      "metadata": {
        "id": "qW1GT1aBSRFq"
      },
      "execution_count": 17,
      "outputs": []
    },
    {
      "cell_type": "markdown",
      "source": [
        "**한국어 제외 불용어 제거하는 함수 생성**"
      ],
      "metadata": {
        "id": "ysbi0j5TnAge"
      }
    },
    {
      "cell_type": "markdown",
      "source": [
        "{'Adjective': '형용사',\n",
        " 'Adverb': '부사',\n",
        " 'Alpha': '알파벳',\n",
        " 'Conjunction': '접속사',\n",
        " 'Determiner': '관형사',\n",
        " 'Eomi': '어미',\n",
        " 'Exclamation': '감탄사',\n",
        " 'Foreign': '외국어, 한자 및 기타기호',\n",
        " 'Hashtag': '트위터 해쉬태그',\n",
        " 'Josa': '조사',\n",
        " 'KoreanParticle': '(ex: ㅋㅋ)',\n",
        " 'Noun': '명사',\n",
        " 'Number': '숫자',\n",
        " 'PreEomi': '선어말어미',\n",
        " 'Punctuation': '구두점',\n",
        " 'ScreenName': '트위터 아이디',\n",
        " 'Suffix': '접미사',\n",
        " 'Unknown': '미등록어',\n",
        " 'Verb': '동사'}"
      ],
      "metadata": {
        "id": "YaZCR54Bsot_"
      }
    },
    {
      "cell_type": "code",
      "source": [
        "import re\n",
        "def cleaning(ary):\n",
        "  for idx, line in  enumerate(ary):\n",
        "    words = []\n",
        "    # 형태소 추출\n",
        "    for word in okt.pos(line, stem=True):\n",
        "        if word[1] in ['Noun', 'Verb', 'Adjective', 'Adverb','KoreanParticle','Exclamation']:\n",
        "          word = re.sub('[-=+,#/\\?:^$.@*\\\"※~&%ㆍ!』\\\\‘|\\(\\)\\[\\]\\<\\>`\\'…》]','',word[0])\n",
        "          if word != '':\n",
        "            if word not in stop_words:\n",
        "              words.append(word)\n",
        "          # # 영어 제거\n",
        "          # word = re.sub('([a-zA-Z])','',word[0])   \n",
        "          # # 자음 모음 제거\n",
        "          # word = re.sub('[ㄱ-ㅎㅏ-ㅣ]+','',word[0])\n",
        "          # # 특수문자 제거\n",
        "          # word = re.sub('[-=+,#/\\?:^$.@*\\\"※~&%ㆍ!』\\\\‘|\\(\\)\\[\\]\\<\\>`\\'…》]','',word[0])\n",
        "    ary[idx] = ' '.join(words) \n",
        "  return ary\n"
      ],
      "metadata": {
        "id": "jZ8NWSg9CFjs"
      },
      "execution_count": 18,
      "outputs": []
    },
    {
      "cell_type": "markdown",
      "source": [
        "**텍스트 정규화**"
      ],
      "metadata": {
        "id": "8TFjOu2TnHCN"
      }
    },
    {
      "cell_type": "code",
      "source": [
        "sentence = cleaning(df2['sentence'])"
      ],
      "metadata": {
        "id": "QSW3tFhuE9Yv",
        "colab": {
          "base_uri": "https://localhost:8080/"
        },
        "outputId": "398fd63a-9707-4c9d-bc12-866c0853fbab"
      },
      "execution_count": 19,
      "outputs": [
        {
          "output_type": "stream",
          "name": "stderr",
          "text": [
            "<ipython-input-18-41422fec4e01>:18: SettingWithCopyWarning: \n",
            "A value is trying to be set on a copy of a slice from a DataFrame\n",
            "\n",
            "See the caveats in the documentation: https://pandas.pydata.org/pandas-docs/stable/user_guide/indexing.html#returning-a-view-versus-a-copy\n",
            "  ary[idx] = ' '.join(words)\n"
          ]
        }
      ]
    },
    {
      "cell_type": "markdown",
      "source": [
        "**정규화 된 sentence로 데이터프레임 값 변경**"
      ],
      "metadata": {
        "id": "WWapVxKmnJzF"
      }
    },
    {
      "cell_type": "code",
      "source": [
        "df3 = pd.DataFrame({\n",
        "    'sentiment' : df2['sentiment'].tolist(),\n",
        "    'sentence' : sentence\n",
        "})\n",
        "df3.head()"
      ],
      "metadata": {
        "colab": {
          "base_uri": "https://localhost:8080/",
          "height": 206
        },
        "id": "jgMWOdsIZhWb",
        "outputId": "451235ad-821a-4d36-8113-f08ff847c236"
      },
      "execution_count": 21,
      "outputs": [
        {
          "output_type": "execute_result",
          "data": {
            "text/plain": [
              "   sentiment                          sentence\n",
              "0          2                      일 해도 해도 끝 화가\n",
              "1          2           급여 깎다 물가 월급 자꾸 깎다 너무 화가\n",
              "2          2  회사 신입 들어오다 말투 거슬리다 그렇다 애 보다 스트레스\n",
              "3          2   직장 막내 이유 온갖 심부름 시키다 일도 많다 정말 분해\n",
              "4          2              입사 신입사원 나르다 무시 너무 화가"
            ],
            "text/html": [
              "\n",
              "  <div id=\"df-5a4b118a-d90a-4eaf-bb42-6fc38b19dad6\">\n",
              "    <div class=\"colab-df-container\">\n",
              "      <div>\n",
              "<style scoped>\n",
              "    .dataframe tbody tr th:only-of-type {\n",
              "        vertical-align: middle;\n",
              "    }\n",
              "\n",
              "    .dataframe tbody tr th {\n",
              "        vertical-align: top;\n",
              "    }\n",
              "\n",
              "    .dataframe thead th {\n",
              "        text-align: right;\n",
              "    }\n",
              "</style>\n",
              "<table border=\"1\" class=\"dataframe\">\n",
              "  <thead>\n",
              "    <tr style=\"text-align: right;\">\n",
              "      <th></th>\n",
              "      <th>sentiment</th>\n",
              "      <th>sentence</th>\n",
              "    </tr>\n",
              "  </thead>\n",
              "  <tbody>\n",
              "    <tr>\n",
              "      <th>0</th>\n",
              "      <td>2</td>\n",
              "      <td>일 해도 해도 끝 화가</td>\n",
              "    </tr>\n",
              "    <tr>\n",
              "      <th>1</th>\n",
              "      <td>2</td>\n",
              "      <td>급여 깎다 물가 월급 자꾸 깎다 너무 화가</td>\n",
              "    </tr>\n",
              "    <tr>\n",
              "      <th>2</th>\n",
              "      <td>2</td>\n",
              "      <td>회사 신입 들어오다 말투 거슬리다 그렇다 애 보다 스트레스</td>\n",
              "    </tr>\n",
              "    <tr>\n",
              "      <th>3</th>\n",
              "      <td>2</td>\n",
              "      <td>직장 막내 이유 온갖 심부름 시키다 일도 많다 정말 분해</td>\n",
              "    </tr>\n",
              "    <tr>\n",
              "      <th>4</th>\n",
              "      <td>2</td>\n",
              "      <td>입사 신입사원 나르다 무시 너무 화가</td>\n",
              "    </tr>\n",
              "  </tbody>\n",
              "</table>\n",
              "</div>\n",
              "      <button class=\"colab-df-convert\" onclick=\"convertToInteractive('df-5a4b118a-d90a-4eaf-bb42-6fc38b19dad6')\"\n",
              "              title=\"Convert this dataframe to an interactive table.\"\n",
              "              style=\"display:none;\">\n",
              "        \n",
              "  <svg xmlns=\"http://www.w3.org/2000/svg\" height=\"24px\"viewBox=\"0 0 24 24\"\n",
              "       width=\"24px\">\n",
              "    <path d=\"M0 0h24v24H0V0z\" fill=\"none\"/>\n",
              "    <path d=\"M18.56 5.44l.94 2.06.94-2.06 2.06-.94-2.06-.94-.94-2.06-.94 2.06-2.06.94zm-11 1L8.5 8.5l.94-2.06 2.06-.94-2.06-.94L8.5 2.5l-.94 2.06-2.06.94zm10 10l.94 2.06.94-2.06 2.06-.94-2.06-.94-.94-2.06-.94 2.06-2.06.94z\"/><path d=\"M17.41 7.96l-1.37-1.37c-.4-.4-.92-.59-1.43-.59-.52 0-1.04.2-1.43.59L10.3 9.45l-7.72 7.72c-.78.78-.78 2.05 0 2.83L4 21.41c.39.39.9.59 1.41.59.51 0 1.02-.2 1.41-.59l7.78-7.78 2.81-2.81c.8-.78.8-2.07 0-2.86zM5.41 20L4 18.59l7.72-7.72 1.47 1.35L5.41 20z\"/>\n",
              "  </svg>\n",
              "      </button>\n",
              "      \n",
              "  <style>\n",
              "    .colab-df-container {\n",
              "      display:flex;\n",
              "      flex-wrap:wrap;\n",
              "      gap: 12px;\n",
              "    }\n",
              "\n",
              "    .colab-df-convert {\n",
              "      background-color: #E8F0FE;\n",
              "      border: none;\n",
              "      border-radius: 50%;\n",
              "      cursor: pointer;\n",
              "      display: none;\n",
              "      fill: #1967D2;\n",
              "      height: 32px;\n",
              "      padding: 0 0 0 0;\n",
              "      width: 32px;\n",
              "    }\n",
              "\n",
              "    .colab-df-convert:hover {\n",
              "      background-color: #E2EBFA;\n",
              "      box-shadow: 0px 1px 2px rgba(60, 64, 67, 0.3), 0px 1px 3px 1px rgba(60, 64, 67, 0.15);\n",
              "      fill: #174EA6;\n",
              "    }\n",
              "\n",
              "    [theme=dark] .colab-df-convert {\n",
              "      background-color: #3B4455;\n",
              "      fill: #D2E3FC;\n",
              "    }\n",
              "\n",
              "    [theme=dark] .colab-df-convert:hover {\n",
              "      background-color: #434B5C;\n",
              "      box-shadow: 0px 1px 3px 1px rgba(0, 0, 0, 0.15);\n",
              "      filter: drop-shadow(0px 1px 2px rgba(0, 0, 0, 0.3));\n",
              "      fill: #FFFFFF;\n",
              "    }\n",
              "  </style>\n",
              "\n",
              "      <script>\n",
              "        const buttonEl =\n",
              "          document.querySelector('#df-5a4b118a-d90a-4eaf-bb42-6fc38b19dad6 button.colab-df-convert');\n",
              "        buttonEl.style.display =\n",
              "          google.colab.kernel.accessAllowed ? 'block' : 'none';\n",
              "\n",
              "        async function convertToInteractive(key) {\n",
              "          const element = document.querySelector('#df-5a4b118a-d90a-4eaf-bb42-6fc38b19dad6');\n",
              "          const dataTable =\n",
              "            await google.colab.kernel.invokeFunction('convertToInteractive',\n",
              "                                                     [key], {});\n",
              "          if (!dataTable) return;\n",
              "\n",
              "          const docLinkHtml = 'Like what you see? Visit the ' +\n",
              "            '<a target=\"_blank\" href=https://colab.research.google.com/notebooks/data_table.ipynb>data table notebook</a>'\n",
              "            + ' to learn more about interactive tables.';\n",
              "          element.innerHTML = '';\n",
              "          dataTable['output_type'] = 'display_data';\n",
              "          await google.colab.output.renderOutput(dataTable, element);\n",
              "          const docLink = document.createElement('div');\n",
              "          docLink.innerHTML = docLinkHtml;\n",
              "          element.appendChild(docLink);\n",
              "        }\n",
              "      </script>\n",
              "    </div>\n",
              "  </div>\n",
              "  "
            ]
          },
          "metadata": {},
          "execution_count": 21
        }
      ]
    },
    {
      "cell_type": "markdown",
      "source": [
        "**csv로 변환해서 내보내기**"
      ],
      "metadata": {
        "id": "CNOPDSQMnPS4"
      }
    },
    {
      "cell_type": "code",
      "source": [
        "df3.to_csv(\"data_clean.csv\",encoding='CP949')"
      ],
      "metadata": {
        "id": "lfHBSs4aLcq8"
      },
      "execution_count": 23,
      "outputs": []
    },
    {
      "cell_type": "markdown",
      "source": [
        "##**[4단계] 피처 벡터화**\n",
        "텍스트를 숫자로 변형해주는 과정\n",
        "CountVectorizer 방법 : 단어의 빈도수에 기반"
      ],
      "metadata": {
        "id": "ar7z7mK03PqB"
      }
    },
    {
      "cell_type": "markdown",
      "source": [
        "**train, test 데이터 분리 및 피처 벡터화**"
      ],
      "metadata": {
        "id": "z4GI0HZ5DHc1"
      }
    },
    {
      "cell_type": "code",
      "source": [
        "import tensorflow as tf\n",
        "from sklearn.feature_extraction.text import CountVectorizer   # tf-idf 방식을 사용하려면 대신 TfidfVectorizer를 import\n",
        "from sklearn.model_selection import train_test_split\n",
        "from sklearn.linear_model import LogisticRegression\n",
        "from sklearn.metrics import accuracy_score"
      ],
      "metadata": {
        "id": "Q69axA57tQrD"
      },
      "execution_count": 24,
      "outputs": []
    },
    {
      "cell_type": "code",
      "source": [
        "y_target = df3[\"sentiment\"]\n",
        "X_feature = df3[\"sentence\"]"
      ],
      "metadata": {
        "id": "8S1jqbUkia30"
      },
      "execution_count": 25,
      "outputs": []
    },
    {
      "cell_type": "code",
      "source": [
        "vect = CountVectorizer(min_df = 5).fit(X_feature)\n",
        "X_feature = vect.transform(X_feature)"
      ],
      "metadata": {
        "id": "CFFlvdxcidOq"
      },
      "execution_count": 26,
      "outputs": []
    },
    {
      "cell_type": "code",
      "source": [
        "X_train, X_test, y_train, y_test= train_test_split(X_feature, y_target, test_size=0.2, random_state=156)\n",
        "\n",
        "X_train.shape, X_test.shape"
      ],
      "metadata": {
        "colab": {
          "base_uri": "https://localhost:8080/"
        },
        "id": "__FvaHUKAKz-",
        "outputId": "038e83f2-f832-4e04-faa5-8b230eb75773"
      },
      "execution_count": 27,
      "outputs": [
        {
          "output_type": "execute_result",
          "data": {
            "text/plain": [
              "((33185, 3734), (8297, 3734))"
            ]
          },
          "metadata": {},
          "execution_count": 27
        }
      ]
    },
    {
      "cell_type": "markdown",
      "source": [
        "**countVectorizer 결과 저장**"
      ],
      "metadata": {
        "id": "aZsLA0DNyZrm"
      }
    },
    {
      "cell_type": "code",
      "source": [
        "import pickle\n",
        "\n",
        "with open('vect.pkl', 'wb') as f:  # cv.pkl이라는 파일을 바이너리 쓰기(wb)모드로 열어서 f라 하고\n",
        "    pickle.dump(vect, f)           # cv를 f에 저장"
      ],
      "metadata": {
        "id": "kjmiQbcVyRa6"
      },
      "execution_count": 36,
      "outputs": []
    },
    {
      "cell_type": "markdown",
      "source": [
        "#**[5단계]모델 학습**"
      ],
      "metadata": {
        "id": "X3CdksasinQj"
      }
    },
    {
      "cell_type": "markdown",
      "source": [
        "**[로지스틱 회귀]**"
      ],
      "metadata": {
        "id": "a16uTZZsm2iz"
      }
    },
    {
      "cell_type": "code",
      "source": [
        "model = LogisticRegression(max_iter=5000)\n",
        "model.fit(X_train, y_train)"
      ],
      "metadata": {
        "id": "xnsiaCuNGKc3",
        "colab": {
          "base_uri": "https://localhost:8080/"
        },
        "outputId": "4fe1fe3e-6c11-4d82-d008-9e9adddcb4eb"
      },
      "execution_count": 28,
      "outputs": [
        {
          "output_type": "execute_result",
          "data": {
            "text/plain": [
              "LogisticRegression(max_iter=5000)"
            ]
          },
          "metadata": {},
          "execution_count": 28
        }
      ]
    },
    {
      "cell_type": "code",
      "source": [
        "y_predict = model.predict(X_test)"
      ],
      "metadata": {
        "id": "sXv0YnH5e_b7"
      },
      "execution_count": 29,
      "outputs": []
    },
    {
      "cell_type": "code",
      "source": [
        "print(\"테스트 데이터 점수:\", model.score(X_test, y_test))\n",
        "print('Accuracy: {:.2f}'.format(accuracy_score(y_test, y_predict))) "
      ],
      "metadata": {
        "colab": {
          "base_uri": "https://localhost:8080/"
        },
        "id": "kuiT78S4jW2A",
        "outputId": "98f8d5a2-7e55-4746-c5d5-8443e00ee379"
      },
      "execution_count": 30,
      "outputs": [
        {
          "output_type": "stream",
          "name": "stdout",
          "text": [
            "테스트 데이터 점수: 0.8253585633361455\n",
            "Accuracy: 0.83\n"
          ]
        }
      ]
    },
    {
      "cell_type": "markdown",
      "source": [
        "**모델 저장**"
      ],
      "metadata": {
        "id": "hG8Wqg1Ckiu1"
      }
    },
    {
      "cell_type": "code",
      "source": [
        "import joblib"
      ],
      "metadata": {
        "id": "Qeh0D7U2kiFZ"
      },
      "execution_count": 32,
      "outputs": []
    },
    {
      "cell_type": "code",
      "source": [
        "joblib.dump(model, 'model_logistic.pb') "
      ],
      "metadata": {
        "colab": {
          "base_uri": "https://localhost:8080/"
        },
        "id": "XuDm7IizGHS5",
        "outputId": "f653ca78-d379-422a-eb09-14f203072350"
      },
      "execution_count": 33,
      "outputs": [
        {
          "output_type": "execute_result",
          "data": {
            "text/plain": [
              "['model_logistic.pb']"
            ]
          },
          "metadata": {},
          "execution_count": 33
        }
      ]
    },
    {
      "cell_type": "markdown",
      "source": [
        "\n",
        "\n",
        "---\n",
        "\n"
      ],
      "metadata": {
        "id": "tCO6yTMUfqk6"
      }
    },
    {
      "cell_type": "markdown",
      "source": [
        "**[랜덤 포레스트]** "
      ],
      "metadata": {
        "id": "LbOoounFiRiX"
      }
    },
    {
      "cell_type": "code",
      "source": [
        "from sklearn.ensemble import RandomForestClassifier\n",
        "from sklearn.metrics import classification_report\n",
        "\n",
        "random_forest = RandomForestClassifier(random_state=32)\n",
        "random_forest.fit(X_train, y_train)\n",
        "y_pred = random_forest.predict(X_test)\n",
        "\n",
        "print(classification_report(y_test, y_pred))"
      ],
      "metadata": {
        "id": "2BlOipMuHnH8",
        "colab": {
          "base_uri": "https://localhost:8080/"
        },
        "outputId": "844f2e78-d724-4930-e988-e950f1eb6232"
      },
      "execution_count": 34,
      "outputs": [
        {
          "output_type": "stream",
          "name": "stdout",
          "text": [
            "              precision    recall  f1-score   support\n",
            "\n",
            "           0       0.83      0.83      0.83      1350\n",
            "           1       0.86      0.58      0.69       689\n",
            "           2       0.81      0.70      0.75      1564\n",
            "           3       0.90      0.79      0.84       787\n",
            "           4       0.79      0.90      0.84      3660\n",
            "           5       0.95      0.90      0.92       247\n",
            "\n",
            "    accuracy                           0.81      8297\n",
            "   macro avg       0.86      0.78      0.81      8297\n",
            "weighted avg       0.82      0.81      0.81      8297\n",
            "\n"
          ]
        }
      ]
    },
    {
      "cell_type": "markdown",
      "source": [
        "**모델 저장**"
      ],
      "metadata": {
        "id": "LEPRGMssutc-"
      }
    },
    {
      "cell_type": "code",
      "source": [
        "joblib.dump(model, 'model_random_forest.pb') "
      ],
      "metadata": {
        "id": "97kvBXi71AE1",
        "colab": {
          "base_uri": "https://localhost:8080/"
        },
        "outputId": "16f775b0-23d4-4d17-ba0e-ffdb1546f5b7"
      },
      "execution_count": 35,
      "outputs": [
        {
          "output_type": "execute_result",
          "data": {
            "text/plain": [
              "['model_random_forest.pb']"
            ]
          },
          "metadata": {},
          "execution_count": 35
        }
      ]
    }
  ]
}